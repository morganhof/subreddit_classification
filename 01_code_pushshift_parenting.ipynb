{
 "cells": [
  {
   "cell_type": "markdown",
   "metadata": {},
   "source": [
    "# Imports"
   ]
  },
  {
   "cell_type": "code",
   "execution_count": 1,
   "metadata": {},
   "outputs": [],
   "source": [
    "import requests\n",
    "import pandas as pd\n",
    "import time"
   ]
  },
  {
   "cell_type": "markdown",
   "metadata": {},
   "source": [
    "# Exploring How to Pull from Pushshift API"
   ]
  },
  {
   "cell_type": "code",
   "execution_count": 2,
   "metadata": {},
   "outputs": [],
   "source": [
    "url_parents = 'https://api.pushshift.io/reddit/search/submission?subreddit=parenting'"
   ]
  },
  {
   "cell_type": "code",
   "execution_count": 3,
   "metadata": {},
   "outputs": [],
   "source": [
    "response_parents = requests.get(url_parents)"
   ]
  },
  {
   "cell_type": "code",
   "execution_count": 4,
   "metadata": {},
   "outputs": [
    {
     "data": {
      "text/plain": [
       "200"
      ]
     },
     "execution_count": 4,
     "metadata": {},
     "output_type": "execute_result"
    }
   ],
   "source": [
    "response_parents.status_code"
   ]
  },
  {
   "cell_type": "code",
   "execution_count": 5,
   "metadata": {},
   "outputs": [],
   "source": [
    "data_parents = response_parents.json()"
   ]
  },
  {
   "cell_type": "code",
   "execution_count": 6,
   "metadata": {},
   "outputs": [],
   "source": [
    "posts_parents = data_parents['data']"
   ]
  },
  {
   "cell_type": "code",
   "execution_count": 7,
   "metadata": {},
   "outputs": [
    {
     "data": {
      "text/plain": [
       "{'all_awardings': [],\n",
       " 'allow_live_comments': False,\n",
       " 'author': 'stuffedshell',\n",
       " 'author_flair_css_class': None,\n",
       " 'author_flair_richtext': [],\n",
       " 'author_flair_text': None,\n",
       " 'author_flair_type': 'text',\n",
       " 'author_fullname': 't2_1np5reti',\n",
       " 'author_is_blocked': False,\n",
       " 'author_patreon_flair': False,\n",
       " 'author_premium': False,\n",
       " 'awarders': [],\n",
       " 'can_mod_post': False,\n",
       " 'contest_mode': False,\n",
       " 'created_utc': 1643121773,\n",
       " 'domain': 'self.Parenting',\n",
       " 'full_link': 'https://www.reddit.com/r/Parenting/comments/scfai2/8_year_old_with_possible_add/',\n",
       " 'gildings': {},\n",
       " 'id': 'scfai2',\n",
       " 'is_created_from_ads_ui': False,\n",
       " 'is_crosspostable': True,\n",
       " 'is_meta': False,\n",
       " 'is_original_content': False,\n",
       " 'is_reddit_media_domain': False,\n",
       " 'is_robot_indexable': True,\n",
       " 'is_self': True,\n",
       " 'is_video': False,\n",
       " 'link_flair_background_color': '#edeff1',\n",
       " 'link_flair_css_class': 'health',\n",
       " 'link_flair_richtext': [{'e': 'text', 't': 'Health &amp; Development'}],\n",
       " 'link_flair_template_id': '0bc02df0-58f3-11e6-9a5a-0e29a568892f',\n",
       " 'link_flair_text': 'Health &amp; Development',\n",
       " 'link_flair_text_color': 'dark',\n",
       " 'link_flair_type': 'richtext',\n",
       " 'locked': False,\n",
       " 'media_only': False,\n",
       " 'no_follow': True,\n",
       " 'num_comments': 0,\n",
       " 'num_crossposts': 0,\n",
       " 'over_18': False,\n",
       " 'parent_whitelist_status': 'all_ads',\n",
       " 'permalink': '/r/Parenting/comments/scfai2/8_year_old_with_possible_add/',\n",
       " 'pinned': False,\n",
       " 'pwls': 6,\n",
       " 'retrieved_on': 1643121784,\n",
       " 'score': 1,\n",
       " 'selftext': \"Hello, we have seen our pediatrician for our concerns and have an appointment with a psychologist this weekend.\\n\\nOur daughter is turning 8 shortly, she's been a pretty good kid in general but ever since she started school we've slowly seen a change in her behaviour. Her Kindergarten teacher adored her and had no issues, the only thing she noted to us was that she seemed unorganized. Then lockdown kicked in March 2020 so she was at home with her twin 3 year old brothers at the time. We would have her practice her writing in those workbooks you buy at Costco or Walmart but nothing. \\n\\nGrade 1 starts back to in person learning, her teacher says everything is going well but trying to get her to do any homework at home and learning her sounds/words is like pulling teeth.\\n\\nFast forward to Grade 2 this year and within a month her new teacher lets us know that she is at an early Grade 1 reading level. The teacher also advises us that as much as she's a pleasure to have in class, she participates well, interacts, all the good stuff but the moment she needs to sit at her desk and listen she's always in the clouds, daydreaming and not paying attention, can't sit still.\\n\\nWe've seen all these signs at home (fidgety, climbing the walls (literally), unorganized, messy, can't eat sitting still, need to repeat ourselves to her over and over, etc...) over the past few years but we chalked it up to her still being young.\\n\\nLooking at the checklist for ADD she covers a majority of them, so I'm assuming they will suggest medication to help her deal with it.\\n\\nThe constant screaming and yelling at her is really getting to us as a family, every task, whether it be brushing her teeth, getting dressed, etc... is an exhausting task with her. We are quite open to having her start medication for her good and that of our family.\\n\\nShe was born quite premature and it seems this leads to a 4-5 fold increase of being ADD compared to a full term baby.\\n\\nDoes anyone have similar experiences, suggestions, parenting techniques?\\n\\nThose who have medicated their kids, how has it gone, has it helped, how long have they been on the medication, how have the side effects been?\",\n",
       " 'send_replies': True,\n",
       " 'spoiler': False,\n",
       " 'stickied': False,\n",
       " 'subreddit': 'Parenting',\n",
       " 'subreddit_id': 't5_2qhn3',\n",
       " 'subreddit_subscribers': 3813260,\n",
       " 'subreddit_type': 'public',\n",
       " 'thumbnail': 'self',\n",
       " 'title': '8 Year Old with Possible ADD',\n",
       " 'total_awards_received': 0,\n",
       " 'treatment_tags': [],\n",
       " 'upvote_ratio': 1.0,\n",
       " 'url': 'https://www.reddit.com/r/Parenting/comments/scfai2/8_year_old_with_possible_add/',\n",
       " 'whitelist_status': 'all_ads',\n",
       " 'wls': 6}"
      ]
     },
     "execution_count": 7,
     "metadata": {},
     "output_type": "execute_result"
    }
   ],
   "source": [
    "posts_parents[0]"
   ]
  },
  {
   "cell_type": "code",
   "execution_count": 8,
   "metadata": {},
   "outputs": [
    {
     "data": {
      "text/plain": [
       "dict_keys(['all_awardings', 'allow_live_comments', 'author', 'author_flair_css_class', 'author_flair_richtext', 'author_flair_text', 'author_flair_type', 'author_fullname', 'author_is_blocked', 'author_patreon_flair', 'author_premium', 'awarders', 'can_mod_post', 'contest_mode', 'created_utc', 'domain', 'full_link', 'gildings', 'id', 'is_created_from_ads_ui', 'is_crosspostable', 'is_meta', 'is_original_content', 'is_reddit_media_domain', 'is_robot_indexable', 'is_self', 'is_video', 'link_flair_background_color', 'link_flair_css_class', 'link_flair_richtext', 'link_flair_template_id', 'link_flair_text', 'link_flair_text_color', 'link_flair_type', 'locked', 'media_only', 'no_follow', 'num_comments', 'num_crossposts', 'over_18', 'parent_whitelist_status', 'permalink', 'pinned', 'pwls', 'retrieved_on', 'score', 'selftext', 'send_replies', 'spoiler', 'stickied', 'subreddit', 'subreddit_id', 'subreddit_subscribers', 'subreddit_type', 'thumbnail', 'title', 'total_awards_received', 'treatment_tags', 'upvote_ratio', 'url', 'whitelist_status', 'wls'])"
      ]
     },
     "execution_count": 8,
     "metadata": {},
     "output_type": "execute_result"
    }
   ],
   "source": [
    "posts_parents[0].keys()"
   ]
  },
  {
   "cell_type": "code",
   "execution_count": 9,
   "metadata": {},
   "outputs": [],
   "source": [
    "df_parents = pd.DataFrame(posts_parents)"
   ]
  },
  {
   "cell_type": "code",
   "execution_count": 10,
   "metadata": {},
   "outputs": [
    {
     "data": {
      "text/html": [
       "<div>\n",
       "<style scoped>\n",
       "    .dataframe tbody tr th:only-of-type {\n",
       "        vertical-align: middle;\n",
       "    }\n",
       "\n",
       "    .dataframe tbody tr th {\n",
       "        vertical-align: top;\n",
       "    }\n",
       "\n",
       "    .dataframe thead th {\n",
       "        text-align: right;\n",
       "    }\n",
       "</style>\n",
       "<table border=\"1\" class=\"dataframe\">\n",
       "  <thead>\n",
       "    <tr style=\"text-align: right;\">\n",
       "      <th></th>\n",
       "      <th>all_awardings</th>\n",
       "      <th>allow_live_comments</th>\n",
       "      <th>author</th>\n",
       "      <th>author_flair_css_class</th>\n",
       "      <th>author_flair_richtext</th>\n",
       "      <th>author_flair_text</th>\n",
       "      <th>author_flair_type</th>\n",
       "      <th>author_fullname</th>\n",
       "      <th>author_is_blocked</th>\n",
       "      <th>author_patreon_flair</th>\n",
       "      <th>...</th>\n",
       "      <th>total_awards_received</th>\n",
       "      <th>treatment_tags</th>\n",
       "      <th>upvote_ratio</th>\n",
       "      <th>url</th>\n",
       "      <th>whitelist_status</th>\n",
       "      <th>wls</th>\n",
       "      <th>author_cakeday</th>\n",
       "      <th>removed_by_category</th>\n",
       "      <th>post_hint</th>\n",
       "      <th>preview</th>\n",
       "    </tr>\n",
       "  </thead>\n",
       "  <tbody>\n",
       "    <tr>\n",
       "      <th>0</th>\n",
       "      <td>[]</td>\n",
       "      <td>False</td>\n",
       "      <td>stuffedshell</td>\n",
       "      <td>None</td>\n",
       "      <td>[]</td>\n",
       "      <td>None</td>\n",
       "      <td>text</td>\n",
       "      <td>t2_1np5reti</td>\n",
       "      <td>False</td>\n",
       "      <td>False</td>\n",
       "      <td>...</td>\n",
       "      <td>0</td>\n",
       "      <td>[]</td>\n",
       "      <td>1.0</td>\n",
       "      <td>https://www.reddit.com/r/Parenting/comments/sc...</td>\n",
       "      <td>all_ads</td>\n",
       "      <td>6</td>\n",
       "      <td>NaN</td>\n",
       "      <td>NaN</td>\n",
       "      <td>NaN</td>\n",
       "      <td>NaN</td>\n",
       "    </tr>\n",
       "    <tr>\n",
       "      <th>1</th>\n",
       "      <td>[]</td>\n",
       "      <td>False</td>\n",
       "      <td>jamesewh</td>\n",
       "      <td>None</td>\n",
       "      <td>[]</td>\n",
       "      <td>None</td>\n",
       "      <td>text</td>\n",
       "      <td>t2_6r2rl</td>\n",
       "      <td>False</td>\n",
       "      <td>False</td>\n",
       "      <td>...</td>\n",
       "      <td>0</td>\n",
       "      <td>[]</td>\n",
       "      <td>1.0</td>\n",
       "      <td>https://www.reddit.com/r/Parenting/comments/sc...</td>\n",
       "      <td>all_ads</td>\n",
       "      <td>6</td>\n",
       "      <td>True</td>\n",
       "      <td>NaN</td>\n",
       "      <td>NaN</td>\n",
       "      <td>NaN</td>\n",
       "    </tr>\n",
       "    <tr>\n",
       "      <th>2</th>\n",
       "      <td>[]</td>\n",
       "      <td>False</td>\n",
       "      <td>throwawayaccnt8888</td>\n",
       "      <td>None</td>\n",
       "      <td>[]</td>\n",
       "      <td>None</td>\n",
       "      <td>text</td>\n",
       "      <td>t2_dxsqywuy</td>\n",
       "      <td>False</td>\n",
       "      <td>False</td>\n",
       "      <td>...</td>\n",
       "      <td>0</td>\n",
       "      <td>[]</td>\n",
       "      <td>1.0</td>\n",
       "      <td>https://www.reddit.com/r/Parenting/comments/sc...</td>\n",
       "      <td>all_ads</td>\n",
       "      <td>6</td>\n",
       "      <td>NaN</td>\n",
       "      <td>automod_filtered</td>\n",
       "      <td>NaN</td>\n",
       "      <td>NaN</td>\n",
       "    </tr>\n",
       "    <tr>\n",
       "      <th>3</th>\n",
       "      <td>[]</td>\n",
       "      <td>False</td>\n",
       "      <td>SunKissedHibiscus</td>\n",
       "      <td>None</td>\n",
       "      <td>[]</td>\n",
       "      <td>None</td>\n",
       "      <td>text</td>\n",
       "      <td>t2_dn83631u</td>\n",
       "      <td>False</td>\n",
       "      <td>False</td>\n",
       "      <td>...</td>\n",
       "      <td>0</td>\n",
       "      <td>[]</td>\n",
       "      <td>1.0</td>\n",
       "      <td>https://www.reddit.com/r/Parenting/comments/sc...</td>\n",
       "      <td>all_ads</td>\n",
       "      <td>6</td>\n",
       "      <td>NaN</td>\n",
       "      <td>NaN</td>\n",
       "      <td>NaN</td>\n",
       "      <td>NaN</td>\n",
       "    </tr>\n",
       "    <tr>\n",
       "      <th>4</th>\n",
       "      <td>[]</td>\n",
       "      <td>False</td>\n",
       "      <td>darcinereen</td>\n",
       "      <td>None</td>\n",
       "      <td>[]</td>\n",
       "      <td>None</td>\n",
       "      <td>text</td>\n",
       "      <td>t2_g7xx7hr0</td>\n",
       "      <td>False</td>\n",
       "      <td>False</td>\n",
       "      <td>...</td>\n",
       "      <td>0</td>\n",
       "      <td>[]</td>\n",
       "      <td>1.0</td>\n",
       "      <td>https://www.reddit.com/r/Parenting/comments/sc...</td>\n",
       "      <td>all_ads</td>\n",
       "      <td>6</td>\n",
       "      <td>NaN</td>\n",
       "      <td>NaN</td>\n",
       "      <td>NaN</td>\n",
       "      <td>NaN</td>\n",
       "    </tr>\n",
       "  </tbody>\n",
       "</table>\n",
       "<p>5 rows × 66 columns</p>\n",
       "</div>"
      ],
      "text/plain": [
       "  all_awardings  allow_live_comments              author  \\\n",
       "0            []                False        stuffedshell   \n",
       "1            []                False            jamesewh   \n",
       "2            []                False  throwawayaccnt8888   \n",
       "3            []                False   SunKissedHibiscus   \n",
       "4            []                False         darcinereen   \n",
       "\n",
       "  author_flair_css_class author_flair_richtext author_flair_text  \\\n",
       "0                   None                    []              None   \n",
       "1                   None                    []              None   \n",
       "2                   None                    []              None   \n",
       "3                   None                    []              None   \n",
       "4                   None                    []              None   \n",
       "\n",
       "  author_flair_type author_fullname  author_is_blocked  author_patreon_flair  \\\n",
       "0              text     t2_1np5reti              False                 False   \n",
       "1              text        t2_6r2rl              False                 False   \n",
       "2              text     t2_dxsqywuy              False                 False   \n",
       "3              text     t2_dn83631u              False                 False   \n",
       "4              text     t2_g7xx7hr0              False                 False   \n",
       "\n",
       "   ...  total_awards_received treatment_tags  upvote_ratio  \\\n",
       "0  ...                      0             []           1.0   \n",
       "1  ...                      0             []           1.0   \n",
       "2  ...                      0             []           1.0   \n",
       "3  ...                      0             []           1.0   \n",
       "4  ...                      0             []           1.0   \n",
       "\n",
       "                                                 url  whitelist_status wls  \\\n",
       "0  https://www.reddit.com/r/Parenting/comments/sc...           all_ads   6   \n",
       "1  https://www.reddit.com/r/Parenting/comments/sc...           all_ads   6   \n",
       "2  https://www.reddit.com/r/Parenting/comments/sc...           all_ads   6   \n",
       "3  https://www.reddit.com/r/Parenting/comments/sc...           all_ads   6   \n",
       "4  https://www.reddit.com/r/Parenting/comments/sc...           all_ads   6   \n",
       "\n",
       "  author_cakeday removed_by_category post_hint  preview  \n",
       "0            NaN                 NaN       NaN      NaN  \n",
       "1           True                 NaN       NaN      NaN  \n",
       "2            NaN    automod_filtered       NaN      NaN  \n",
       "3            NaN                 NaN       NaN      NaN  \n",
       "4            NaN                 NaN       NaN      NaN  \n",
       "\n",
       "[5 rows x 66 columns]"
      ]
     },
     "execution_count": 10,
     "metadata": {},
     "output_type": "execute_result"
    }
   ],
   "source": [
    "df_parents.head()"
   ]
  },
  {
   "cell_type": "code",
   "execution_count": 11,
   "metadata": {},
   "outputs": [
    {
     "name": "stdout",
     "output_type": "stream",
     "text": [
      "<class 'pandas.core.frame.DataFrame'>\n",
      "RangeIndex: 25 entries, 0 to 24\n",
      "Data columns (total 66 columns):\n",
      " #   Column                       Non-Null Count  Dtype  \n",
      "---  ------                       --------------  -----  \n",
      " 0   all_awardings                25 non-null     object \n",
      " 1   allow_live_comments          25 non-null     bool   \n",
      " 2   author                       25 non-null     object \n",
      " 3   author_flair_css_class       0 non-null      object \n",
      " 4   author_flair_richtext        25 non-null     object \n",
      " 5   author_flair_text            0 non-null      object \n",
      " 6   author_flair_type            25 non-null     object \n",
      " 7   author_fullname              25 non-null     object \n",
      " 8   author_is_blocked            25 non-null     bool   \n",
      " 9   author_patreon_flair         25 non-null     bool   \n",
      " 10  author_premium               25 non-null     bool   \n",
      " 11  awarders                     25 non-null     object \n",
      " 12  can_mod_post                 25 non-null     bool   \n",
      " 13  contest_mode                 25 non-null     bool   \n",
      " 14  created_utc                  25 non-null     int64  \n",
      " 15  domain                       25 non-null     object \n",
      " 16  full_link                    25 non-null     object \n",
      " 17  gildings                     25 non-null     object \n",
      " 18  id                           25 non-null     object \n",
      " 19  is_created_from_ads_ui       25 non-null     bool   \n",
      " 20  is_crosspostable             25 non-null     bool   \n",
      " 21  is_meta                      25 non-null     bool   \n",
      " 22  is_original_content          25 non-null     bool   \n",
      " 23  is_reddit_media_domain       25 non-null     bool   \n",
      " 24  is_robot_indexable           25 non-null     bool   \n",
      " 25  is_self                      25 non-null     bool   \n",
      " 26  is_video                     25 non-null     bool   \n",
      " 27  link_flair_background_color  25 non-null     object \n",
      " 28  link_flair_css_class         25 non-null     object \n",
      " 29  link_flair_richtext          25 non-null     object \n",
      " 30  link_flair_template_id       25 non-null     object \n",
      " 31  link_flair_text              25 non-null     object \n",
      " 32  link_flair_text_color        25 non-null     object \n",
      " 33  link_flair_type              25 non-null     object \n",
      " 34  locked                       25 non-null     bool   \n",
      " 35  media_only                   25 non-null     bool   \n",
      " 36  no_follow                    25 non-null     bool   \n",
      " 37  num_comments                 25 non-null     int64  \n",
      " 38  num_crossposts               25 non-null     int64  \n",
      " 39  over_18                      25 non-null     bool   \n",
      " 40  parent_whitelist_status      25 non-null     object \n",
      " 41  permalink                    25 non-null     object \n",
      " 42  pinned                       25 non-null     bool   \n",
      " 43  pwls                         25 non-null     int64  \n",
      " 44  retrieved_on                 25 non-null     int64  \n",
      " 45  score                        25 non-null     int64  \n",
      " 46  selftext                     25 non-null     object \n",
      " 47  send_replies                 25 non-null     bool   \n",
      " 48  spoiler                      25 non-null     bool   \n",
      " 49  stickied                     25 non-null     bool   \n",
      " 50  subreddit                    25 non-null     object \n",
      " 51  subreddit_id                 25 non-null     object \n",
      " 52  subreddit_subscribers        25 non-null     int64  \n",
      " 53  subreddit_type               25 non-null     object \n",
      " 54  thumbnail                    25 non-null     object \n",
      " 55  title                        25 non-null     object \n",
      " 56  total_awards_received        25 non-null     int64  \n",
      " 57  treatment_tags               25 non-null     object \n",
      " 58  upvote_ratio                 25 non-null     float64\n",
      " 59  url                          25 non-null     object \n",
      " 60  whitelist_status             25 non-null     object \n",
      " 61  wls                          25 non-null     int64  \n",
      " 62  author_cakeday               1 non-null      object \n",
      " 63  removed_by_category          8 non-null      object \n",
      " 64  post_hint                    1 non-null      object \n",
      " 65  preview                      1 non-null      object \n",
      "dtypes: bool(22), float64(1), int64(9), object(34)\n",
      "memory usage: 9.3+ KB\n"
     ]
    }
   ],
   "source": [
    "df_parents.info()"
   ]
  },
  {
   "cell_type": "code",
   "execution_count": 12,
   "metadata": {},
   "outputs": [
    {
     "data": {
      "text/plain": [
       "1643097966"
      ]
     },
     "execution_count": 12,
     "metadata": {},
     "output_type": "execute_result"
    }
   ],
   "source": [
    "df_parents['created_utc'].max()"
   ]
  },
  {
   "cell_type": "markdown",
   "metadata": {},
   "source": [
    "# Function to get Data from Pushshift API for Dogs Subreddit & For Loop To Pull More Data"
   ]
  },
  {
   "cell_type": "code",
   "execution_count": 13,
   "metadata": {},
   "outputs": [],
   "source": [
    "def pushshift_parents_query(subreddit='parenting', kind='submission', before_time=1643121774):\n",
    "    \n",
    "    posts_parents = []\n",
    "\n",
    "    url_parents = f'https://api.pushshift.io/reddit/search/{kind}?subreddit={subreddit}&before={before_time}'\n",
    "    response_parents = requests.get(url_parents)\n",
    "\n",
    "    try:\n",
    "        for post in response_parents.json()['data']:\n",
    "            post_parent_dict = {}\n",
    "            post_parent_dict = post\n",
    "            posts_parents.append(post_parent_dict)\n",
    "\n",
    "        print(f'Processed {len(posts_parents)} rows in dataframe')\n",
    "\n",
    "    except:\n",
    "        print('This is an error')\n",
    "\n",
    "    time.sleep(3)\n",
    "\n",
    "    df_parents = pd.DataFrame(posts_parents)\n",
    "\n",
    "    return df_parents"
   ]
  },
  {
   "cell_type": "code",
   "execution_count": 38,
   "metadata": {},
   "outputs": [
    {
     "name": "stdout",
     "output_type": "stream",
     "text": [
      "Processed 25 rows in dataframe\n",
      "Processed 25 rows in dataframe\n",
      "Processed 25 rows in dataframe\n",
      "Processed 25 rows in dataframe\n",
      "Processed 25 rows in dataframe\n",
      "Processed 25 rows in dataframe\n",
      "Processed 25 rows in dataframe\n",
      "Processed 25 rows in dataframe\n",
      "Processed 25 rows in dataframe\n",
      "Processed 25 rows in dataframe\n",
      "Processed 25 rows in dataframe\n",
      "Processed 25 rows in dataframe\n",
      "Processed 25 rows in dataframe\n",
      "Processed 25 rows in dataframe\n",
      "Processed 25 rows in dataframe\n"
     ]
    }
   ],
   "source": [
    "for query in range(15):\n",
    "    temp_parents = pushshift_parents_query(before_time=df_parents['created_utc'].min())\n",
    "    df_parents = pd.concat([df_parents, temp_parents])\n",
    "\n",
    "# CITATION: Received help from Ben Peck in office hours in how best to loop through data\n",
    "# to grow my dataframe. He helped me work through this for loop."
   ]
  },
  {
   "cell_type": "code",
   "execution_count": 40,
   "metadata": {},
   "outputs": [],
   "source": [
    "# Compiled data as a Data Frame & saved dataframe to CSV file\n",
    "# after 3,600 observations were pulled from the API:\n",
    "\n",
    "df_parents.to_csv('./data_collection/parenting.csv', index=False)"
   ]
  }
 ],
 "metadata": {
  "interpreter": {
   "hash": "98a50cb2aca4e80adc6e29c12ccfb4672626a7c0d857767537bdcd8f6e0a96bd"
  },
  "kernelspec": {
   "display_name": "Python 3.9.7 64-bit ('base': conda)",
   "language": "python",
   "name": "python3"
  },
  "language_info": {
   "codemirror_mode": {
    "name": "ipython",
    "version": 3
   },
   "file_extension": ".py",
   "mimetype": "text/x-python",
   "name": "python",
   "nbconvert_exporter": "python",
   "pygments_lexer": "ipython3",
   "version": "3.9.7"
  },
  "orig_nbformat": 4
 },
 "nbformat": 4,
 "nbformat_minor": 2
}
