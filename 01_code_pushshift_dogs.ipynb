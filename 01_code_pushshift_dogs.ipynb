{
 "cells": [
  {
   "cell_type": "markdown",
   "metadata": {},
   "source": [
    "# Imports"
   ]
  },
  {
   "cell_type": "code",
   "execution_count": null,
   "metadata": {},
   "outputs": [],
   "source": [
    "import requests\n",
    "import pandas as pd\n",
    "import time"
   ]
  },
  {
   "cell_type": "markdown",
   "metadata": {},
   "source": [
    "# Exploring How to Pull from Pushshift API"
   ]
  },
  {
   "cell_type": "code",
   "execution_count": 2,
   "metadata": {},
   "outputs": [],
   "source": [
    "url_dogs = 'https://api.pushshift.io/reddit/search/submission?subreddit=dogs'"
   ]
  },
  {
   "cell_type": "code",
   "execution_count": 3,
   "metadata": {},
   "outputs": [],
   "source": [
    "response_dogs = requests.get(url_dogs, {'size': 25})            # can handle 100 requests/min"
   ]
  },
  {
   "cell_type": "code",
   "execution_count": 4,
   "metadata": {},
   "outputs": [
    {
     "data": {
      "text/plain": [
       "200"
      ]
     },
     "execution_count": 4,
     "metadata": {},
     "output_type": "execute_result"
    }
   ],
   "source": [
    "response_dogs.status_code"
   ]
  },
  {
   "cell_type": "code",
   "execution_count": 5,
   "metadata": {},
   "outputs": [],
   "source": [
    "data_dogs = response_dogs.json()"
   ]
  },
  {
   "cell_type": "code",
   "execution_count": 6,
   "metadata": {},
   "outputs": [],
   "source": [
    "posts_dogs = data_dogs['data']"
   ]
  },
  {
   "cell_type": "code",
   "execution_count": 7,
   "metadata": {},
   "outputs": [
    {
     "data": {
      "text/plain": [
       "25"
      ]
     },
     "execution_count": 7,
     "metadata": {},
     "output_type": "execute_result"
    }
   ],
   "source": [
    "len(posts_dogs)         # 25 posts retreived from pushshift API - this is default"
   ]
  },
  {
   "cell_type": "code",
   "execution_count": 8,
   "metadata": {},
   "outputs": [
    {
     "data": {
      "text/plain": [
       "{'all_awardings': [],\n",
       " 'allow_live_comments': False,\n",
       " 'author': 'charmandermeelion',\n",
       " 'author_flair_css_class': None,\n",
       " 'author_flair_richtext': [],\n",
       " 'author_flair_text': None,\n",
       " 'author_flair_type': 'text',\n",
       " 'author_fullname': 't2_8otv6fas',\n",
       " 'author_is_blocked': False,\n",
       " 'author_patreon_flair': False,\n",
       " 'author_premium': False,\n",
       " 'awarders': [],\n",
       " 'can_mod_post': False,\n",
       " 'contest_mode': False,\n",
       " 'created_utc': 1643083133,\n",
       " 'domain': 'self.dogs',\n",
       " 'full_link': 'https://www.reddit.com/r/dogs/comments/sc4ihy/what_is_the_most_silly_name_you_have_ever_heard/',\n",
       " 'gildings': {},\n",
       " 'id': 'sc4ihy',\n",
       " 'is_created_from_ads_ui': False,\n",
       " 'is_crosspostable': True,\n",
       " 'is_meta': False,\n",
       " 'is_original_content': False,\n",
       " 'is_reddit_media_domain': False,\n",
       " 'is_robot_indexable': True,\n",
       " 'is_self': True,\n",
       " 'is_video': False,\n",
       " 'link_flair_background_color': '#326599',\n",
       " 'link_flair_css_class': 'discussion',\n",
       " 'link_flair_richtext': [{'e': 'text', 't': '[Discussion]'}],\n",
       " 'link_flair_template_id': 'fb1810c0-1bae-11e6-9be2-0e86681a83eb',\n",
       " 'link_flair_text': '[Discussion]',\n",
       " 'link_flair_text_color': 'light',\n",
       " 'link_flair_type': 'richtext',\n",
       " 'locked': False,\n",
       " 'media_only': False,\n",
       " 'no_follow': True,\n",
       " 'num_comments': 1,\n",
       " 'num_crossposts': 0,\n",
       " 'over_18': False,\n",
       " 'parent_whitelist_status': 'all_ads',\n",
       " 'permalink': '/r/dogs/comments/sc4ihy/what_is_the_most_silly_name_you_have_ever_heard/',\n",
       " 'pinned': False,\n",
       " 'pwls': 6,\n",
       " 'retrieved_on': 1643083143,\n",
       " 'score': 1,\n",
       " 'selftext': \"All dogs are adorable, but there's something especially wonderful about those with silly names\",\n",
       " 'send_replies': True,\n",
       " 'spoiler': False,\n",
       " 'stickied': False,\n",
       " 'subreddit': 'dogs',\n",
       " 'subreddit_id': 't5_2qhhk',\n",
       " 'subreddit_subscribers': 2301809,\n",
       " 'subreddit_type': 'public',\n",
       " 'thumbnail': 'self',\n",
       " 'title': 'What is the most silly name you have ever heard for a dog?',\n",
       " 'total_awards_received': 0,\n",
       " 'treatment_tags': [],\n",
       " 'upvote_ratio': 1.0,\n",
       " 'url': 'https://www.reddit.com/r/dogs/comments/sc4ihy/what_is_the_most_silly_name_you_have_ever_heard/',\n",
       " 'whitelist_status': 'all_ads',\n",
       " 'wls': 6}"
      ]
     },
     "execution_count": 8,
     "metadata": {},
     "output_type": "execute_result"
    }
   ],
   "source": [
    "posts_dogs[0]"
   ]
  },
  {
   "cell_type": "code",
   "execution_count": 9,
   "metadata": {},
   "outputs": [
    {
     "data": {
      "text/plain": [
       "dict_keys(['all_awardings', 'allow_live_comments', 'author', 'author_flair_css_class', 'author_flair_richtext', 'author_flair_text', 'author_flair_type', 'author_fullname', 'author_is_blocked', 'author_patreon_flair', 'author_premium', 'awarders', 'can_mod_post', 'contest_mode', 'created_utc', 'domain', 'full_link', 'gildings', 'id', 'is_created_from_ads_ui', 'is_crosspostable', 'is_meta', 'is_original_content', 'is_reddit_media_domain', 'is_robot_indexable', 'is_self', 'is_video', 'link_flair_background_color', 'link_flair_css_class', 'link_flair_richtext', 'link_flair_template_id', 'link_flair_text', 'link_flair_text_color', 'link_flair_type', 'locked', 'media_only', 'no_follow', 'num_comments', 'num_crossposts', 'over_18', 'parent_whitelist_status', 'permalink', 'pinned', 'pwls', 'retrieved_on', 'score', 'selftext', 'send_replies', 'spoiler', 'stickied', 'subreddit', 'subreddit_id', 'subreddit_subscribers', 'subreddit_type', 'thumbnail', 'title', 'total_awards_received', 'treatment_tags', 'upvote_ratio', 'url', 'whitelist_status', 'wls'])"
      ]
     },
     "execution_count": 9,
     "metadata": {},
     "output_type": "execute_result"
    }
   ],
   "source": [
    "posts_dogs[0].keys()"
   ]
  },
  {
   "cell_type": "code",
   "execution_count": 10,
   "metadata": {},
   "outputs": [],
   "source": [
    "df_dogs = pd.DataFrame(posts_dogs)"
   ]
  },
  {
   "cell_type": "code",
   "execution_count": 11,
   "metadata": {},
   "outputs": [
    {
     "data": {
      "text/html": [
       "<div>\n",
       "<style scoped>\n",
       "    .dataframe tbody tr th:only-of-type {\n",
       "        vertical-align: middle;\n",
       "    }\n",
       "\n",
       "    .dataframe tbody tr th {\n",
       "        vertical-align: top;\n",
       "    }\n",
       "\n",
       "    .dataframe thead th {\n",
       "        text-align: right;\n",
       "    }\n",
       "</style>\n",
       "<table border=\"1\" class=\"dataframe\">\n",
       "  <thead>\n",
       "    <tr style=\"text-align: right;\">\n",
       "      <th></th>\n",
       "      <th>all_awardings</th>\n",
       "      <th>allow_live_comments</th>\n",
       "      <th>author</th>\n",
       "      <th>author_flair_css_class</th>\n",
       "      <th>author_flair_richtext</th>\n",
       "      <th>author_flair_text</th>\n",
       "      <th>author_flair_type</th>\n",
       "      <th>author_fullname</th>\n",
       "      <th>author_is_blocked</th>\n",
       "      <th>author_patreon_flair</th>\n",
       "      <th>...</th>\n",
       "      <th>treatment_tags</th>\n",
       "      <th>upvote_ratio</th>\n",
       "      <th>url</th>\n",
       "      <th>whitelist_status</th>\n",
       "      <th>wls</th>\n",
       "      <th>author_flair_background_color</th>\n",
       "      <th>author_flair_text_color</th>\n",
       "      <th>removed_by_category</th>\n",
       "      <th>post_hint</th>\n",
       "      <th>preview</th>\n",
       "    </tr>\n",
       "  </thead>\n",
       "  <tbody>\n",
       "    <tr>\n",
       "      <th>0</th>\n",
       "      <td>[]</td>\n",
       "      <td>False</td>\n",
       "      <td>charmandermeelion</td>\n",
       "      <td>None</td>\n",
       "      <td>[]</td>\n",
       "      <td>None</td>\n",
       "      <td>text</td>\n",
       "      <td>t2_8otv6fas</td>\n",
       "      <td>False</td>\n",
       "      <td>False</td>\n",
       "      <td>...</td>\n",
       "      <td>[]</td>\n",
       "      <td>1.0</td>\n",
       "      <td>https://www.reddit.com/r/dogs/comments/sc4ihy/...</td>\n",
       "      <td>all_ads</td>\n",
       "      <td>6</td>\n",
       "      <td>NaN</td>\n",
       "      <td>NaN</td>\n",
       "      <td>NaN</td>\n",
       "      <td>NaN</td>\n",
       "      <td>NaN</td>\n",
       "    </tr>\n",
       "    <tr>\n",
       "      <th>1</th>\n",
       "      <td>[]</td>\n",
       "      <td>False</td>\n",
       "      <td>[deleted]</td>\n",
       "      <td>None</td>\n",
       "      <td>NaN</td>\n",
       "      <td>None</td>\n",
       "      <td>NaN</td>\n",
       "      <td>NaN</td>\n",
       "      <td>False</td>\n",
       "      <td>NaN</td>\n",
       "      <td>...</td>\n",
       "      <td>[]</td>\n",
       "      <td>1.0</td>\n",
       "      <td>https://www.reddit.com/r/dogs/comments/sc4bn4/...</td>\n",
       "      <td>all_ads</td>\n",
       "      <td>6</td>\n",
       "      <td></td>\n",
       "      <td>dark</td>\n",
       "      <td>deleted</td>\n",
       "      <td>NaN</td>\n",
       "      <td>NaN</td>\n",
       "    </tr>\n",
       "    <tr>\n",
       "      <th>2</th>\n",
       "      <td>[]</td>\n",
       "      <td>False</td>\n",
       "      <td>SubNaut1cal</td>\n",
       "      <td>None</td>\n",
       "      <td>[]</td>\n",
       "      <td>None</td>\n",
       "      <td>text</td>\n",
       "      <td>t2_3wgqamse</td>\n",
       "      <td>False</td>\n",
       "      <td>False</td>\n",
       "      <td>...</td>\n",
       "      <td>[]</td>\n",
       "      <td>1.0</td>\n",
       "      <td>https://www.reddit.com/r/dogs/comments/sc40zd/...</td>\n",
       "      <td>all_ads</td>\n",
       "      <td>6</td>\n",
       "      <td>NaN</td>\n",
       "      <td>NaN</td>\n",
       "      <td>NaN</td>\n",
       "      <td>NaN</td>\n",
       "      <td>NaN</td>\n",
       "    </tr>\n",
       "    <tr>\n",
       "      <th>3</th>\n",
       "      <td>[]</td>\n",
       "      <td>False</td>\n",
       "      <td>PoetryUpInThisBitch</td>\n",
       "      <td>None</td>\n",
       "      <td>[]</td>\n",
       "      <td>None</td>\n",
       "      <td>text</td>\n",
       "      <td>t2_hj1h7</td>\n",
       "      <td>False</td>\n",
       "      <td>False</td>\n",
       "      <td>...</td>\n",
       "      <td>[]</td>\n",
       "      <td>1.0</td>\n",
       "      <td>https://www.reddit.com/r/dogs/comments/sc40wl/...</td>\n",
       "      <td>all_ads</td>\n",
       "      <td>6</td>\n",
       "      <td>NaN</td>\n",
       "      <td>NaN</td>\n",
       "      <td>NaN</td>\n",
       "      <td>NaN</td>\n",
       "      <td>NaN</td>\n",
       "    </tr>\n",
       "    <tr>\n",
       "      <th>4</th>\n",
       "      <td>[]</td>\n",
       "      <td>False</td>\n",
       "      <td>Hachi_Lilah</td>\n",
       "      <td>None</td>\n",
       "      <td>[]</td>\n",
       "      <td>None</td>\n",
       "      <td>text</td>\n",
       "      <td>t2_izueiqpq</td>\n",
       "      <td>False</td>\n",
       "      <td>False</td>\n",
       "      <td>...</td>\n",
       "      <td>[]</td>\n",
       "      <td>1.0</td>\n",
       "      <td>https://www.reddit.com/r/dogs/comments/sc3z8e/...</td>\n",
       "      <td>all_ads</td>\n",
       "      <td>6</td>\n",
       "      <td>NaN</td>\n",
       "      <td>NaN</td>\n",
       "      <td>NaN</td>\n",
       "      <td>NaN</td>\n",
       "      <td>NaN</td>\n",
       "    </tr>\n",
       "  </tbody>\n",
       "</table>\n",
       "<p>5 rows × 67 columns</p>\n",
       "</div>"
      ],
      "text/plain": [
       "  all_awardings  allow_live_comments               author  \\\n",
       "0            []                False    charmandermeelion   \n",
       "1            []                False            [deleted]   \n",
       "2            []                False          SubNaut1cal   \n",
       "3            []                False  PoetryUpInThisBitch   \n",
       "4            []                False          Hachi_Lilah   \n",
       "\n",
       "  author_flair_css_class author_flair_richtext author_flair_text  \\\n",
       "0                   None                    []              None   \n",
       "1                   None                   NaN              None   \n",
       "2                   None                    []              None   \n",
       "3                   None                    []              None   \n",
       "4                   None                    []              None   \n",
       "\n",
       "  author_flair_type author_fullname  author_is_blocked author_patreon_flair  \\\n",
       "0              text     t2_8otv6fas              False                False   \n",
       "1               NaN             NaN              False                  NaN   \n",
       "2              text     t2_3wgqamse              False                False   \n",
       "3              text        t2_hj1h7              False                False   \n",
       "4              text     t2_izueiqpq              False                False   \n",
       "\n",
       "   ... treatment_tags upvote_ratio  \\\n",
       "0  ...             []          1.0   \n",
       "1  ...             []          1.0   \n",
       "2  ...             []          1.0   \n",
       "3  ...             []          1.0   \n",
       "4  ...             []          1.0   \n",
       "\n",
       "                                                 url  whitelist_status  wls  \\\n",
       "0  https://www.reddit.com/r/dogs/comments/sc4ihy/...           all_ads    6   \n",
       "1  https://www.reddit.com/r/dogs/comments/sc4bn4/...           all_ads    6   \n",
       "2  https://www.reddit.com/r/dogs/comments/sc40zd/...           all_ads    6   \n",
       "3  https://www.reddit.com/r/dogs/comments/sc40wl/...           all_ads    6   \n",
       "4  https://www.reddit.com/r/dogs/comments/sc3z8e/...           all_ads    6   \n",
       "\n",
       "  author_flair_background_color author_flair_text_color removed_by_category  \\\n",
       "0                           NaN                     NaN                 NaN   \n",
       "1                                                  dark             deleted   \n",
       "2                           NaN                     NaN                 NaN   \n",
       "3                           NaN                     NaN                 NaN   \n",
       "4                           NaN                     NaN                 NaN   \n",
       "\n",
       "  post_hint  preview  \n",
       "0       NaN      NaN  \n",
       "1       NaN      NaN  \n",
       "2       NaN      NaN  \n",
       "3       NaN      NaN  \n",
       "4       NaN      NaN  \n",
       "\n",
       "[5 rows x 67 columns]"
      ]
     },
     "execution_count": 11,
     "metadata": {},
     "output_type": "execute_result"
    }
   ],
   "source": [
    "df_dogs.head()"
   ]
  },
  {
   "cell_type": "code",
   "execution_count": 12,
   "metadata": {},
   "outputs": [
    {
     "name": "stdout",
     "output_type": "stream",
     "text": [
      "<class 'pandas.core.frame.DataFrame'>\n",
      "RangeIndex: 25 entries, 0 to 24\n",
      "Data columns (total 67 columns):\n",
      " #   Column                         Non-Null Count  Dtype  \n",
      "---  ------                         --------------  -----  \n",
      " 0   all_awardings                  25 non-null     object \n",
      " 1   allow_live_comments            25 non-null     bool   \n",
      " 2   author                         25 non-null     object \n",
      " 3   author_flair_css_class         0 non-null      object \n",
      " 4   author_flair_richtext          24 non-null     object \n",
      " 5   author_flair_text              0 non-null      object \n",
      " 6   author_flair_type              24 non-null     object \n",
      " 7   author_fullname                24 non-null     object \n",
      " 8   author_is_blocked              25 non-null     bool   \n",
      " 9   author_patreon_flair           24 non-null     object \n",
      " 10  author_premium                 24 non-null     object \n",
      " 11  awarders                       25 non-null     object \n",
      " 12  can_mod_post                   25 non-null     bool   \n",
      " 13  contest_mode                   25 non-null     bool   \n",
      " 14  created_utc                    25 non-null     int64  \n",
      " 15  domain                         25 non-null     object \n",
      " 16  full_link                      25 non-null     object \n",
      " 17  gildings                       25 non-null     object \n",
      " 18  id                             25 non-null     object \n",
      " 19  is_created_from_ads_ui         25 non-null     bool   \n",
      " 20  is_crosspostable               25 non-null     bool   \n",
      " 21  is_meta                        25 non-null     bool   \n",
      " 22  is_original_content            25 non-null     bool   \n",
      " 23  is_reddit_media_domain         25 non-null     bool   \n",
      " 24  is_robot_indexable             25 non-null     bool   \n",
      " 25  is_self                        25 non-null     bool   \n",
      " 26  is_video                       25 non-null     bool   \n",
      " 27  link_flair_background_color    25 non-null     object \n",
      " 28  link_flair_css_class           25 non-null     object \n",
      " 29  link_flair_richtext            25 non-null     object \n",
      " 30  link_flair_template_id         25 non-null     object \n",
      " 31  link_flair_text                25 non-null     object \n",
      " 32  link_flair_text_color          25 non-null     object \n",
      " 33  link_flair_type                25 non-null     object \n",
      " 34  locked                         25 non-null     bool   \n",
      " 35  media_only                     25 non-null     bool   \n",
      " 36  no_follow                      25 non-null     bool   \n",
      " 37  num_comments                   25 non-null     int64  \n",
      " 38  num_crossposts                 25 non-null     int64  \n",
      " 39  over_18                        25 non-null     bool   \n",
      " 40  parent_whitelist_status        25 non-null     object \n",
      " 41  permalink                      25 non-null     object \n",
      " 42  pinned                         25 non-null     bool   \n",
      " 43  pwls                           25 non-null     int64  \n",
      " 44  retrieved_on                   25 non-null     int64  \n",
      " 45  score                          25 non-null     int64  \n",
      " 46  selftext                       25 non-null     object \n",
      " 47  send_replies                   25 non-null     bool   \n",
      " 48  spoiler                        25 non-null     bool   \n",
      " 49  stickied                       25 non-null     bool   \n",
      " 50  subreddit                      25 non-null     object \n",
      " 51  subreddit_id                   25 non-null     object \n",
      " 52  subreddit_subscribers          25 non-null     int64  \n",
      " 53  subreddit_type                 25 non-null     object \n",
      " 54  thumbnail                      25 non-null     object \n",
      " 55  title                          25 non-null     object \n",
      " 56  total_awards_received          25 non-null     int64  \n",
      " 57  treatment_tags                 25 non-null     object \n",
      " 58  upvote_ratio                   25 non-null     float64\n",
      " 59  url                            25 non-null     object \n",
      " 60  whitelist_status               25 non-null     object \n",
      " 61  wls                            25 non-null     int64  \n",
      " 62  author_flair_background_color  1 non-null      object \n",
      " 63  author_flair_text_color        1 non-null      object \n",
      " 64  removed_by_category            4 non-null      object \n",
      " 65  post_hint                      1 non-null      object \n",
      " 66  preview                        1 non-null      object \n",
      "dtypes: bool(20), float64(1), int64(9), object(37)\n",
      "memory usage: 9.8+ KB\n"
     ]
    }
   ],
   "source": [
    "df_dogs.info()"
   ]
  },
  {
   "cell_type": "markdown",
   "metadata": {},
   "source": [
    "# Function to get Data from Pushshift API for Dogs Subreddit & For Loop To Pull More Data"
   ]
  },
  {
   "cell_type": "code",
   "execution_count": 13,
   "metadata": {},
   "outputs": [],
   "source": [
    "def pushshift_dog_query(subreddit='dogs', kind='submission', before_time=1643083133):\n",
    "    \n",
    "    posts_dogs = []\n",
    "\n",
    "    url_dogs = f'https://api.pushshift.io/reddit/search/{kind}?subreddit={subreddit}&before={before_time}'\n",
    "    response_dogs = requests.get(url_dogs)\n",
    "\n",
    "    try:\n",
    "        for post in response_dogs.json()['data']:\n",
    "            post_dog_dict = {}\n",
    "            post_dog_dict = post\n",
    "            posts_dogs.append(post_dog_dict)\n",
    "\n",
    "        print(f'Current data frame has {len(posts_dogs)} rows')\n",
    "\n",
    "    except:\n",
    "        print('This is an error')\n",
    "\n",
    "    time.sleep(3)\n",
    "\n",
    "    df_dogs = pd.DataFrame(posts_dogs)\n",
    "    # df_dogs.to_csv('./data_collection/posts_dogs.csv', index=False)\n",
    "\n",
    "    return df_dogs"
   ]
  },
  {
   "cell_type": "code",
   "execution_count": 62,
   "metadata": {},
   "outputs": [
    {
     "name": "stdout",
     "output_type": "stream",
     "text": [
      "Current data frame has 25 rows\n",
      "Current data frame has 25 rows\n",
      "Current data frame has 25 rows\n",
      "Current data frame has 25 rows\n",
      "Current data frame has 25 rows\n",
      "Current data frame has 25 rows\n",
      "Current data frame has 25 rows\n",
      "Current data frame has 25 rows\n",
      "Current data frame has 25 rows\n",
      "Current data frame has 25 rows\n",
      "Current data frame has 25 rows\n",
      "Current data frame has 25 rows\n",
      "Current data frame has 25 rows\n",
      "Current data frame has 25 rows\n",
      "Current data frame has 25 rows\n"
     ]
    }
   ],
   "source": [
    "for query in range(15):\n",
    "    temp_dogs = pushshift_dog_query(before_time=df_dogs['created_utc'].min())\n",
    "    df_dogs = pd.concat([df_dogs, temp_dogs])\n",
    "\n",
    "# CITATION: Received help from Ben Peck in office hours in how best to loop through data\n",
    "# to grow my dataframe. He helped me work through this for loop."
   ]
  },
  {
   "cell_type": "code",
   "execution_count": 64,
   "metadata": {},
   "outputs": [],
   "source": [
    "# Compiled data as a Data Frame & saved dataframe to CSV file\n",
    "# after 3,600 observations were pulled from the API:\n",
    "\n",
    "df_dogs.to_csv('./data_collection/dogs.csv', index=False)"
   ]
  }
 ],
 "metadata": {
  "interpreter": {
   "hash": "98a50cb2aca4e80adc6e29c12ccfb4672626a7c0d857767537bdcd8f6e0a96bd"
  },
  "kernelspec": {
   "display_name": "Python 3.9.7 64-bit ('base': conda)",
   "language": "python",
   "name": "python3"
  },
  "language_info": {
   "codemirror_mode": {
    "name": "ipython",
    "version": 3
   },
   "file_extension": ".py",
   "mimetype": "text/x-python",
   "name": "python",
   "nbconvert_exporter": "python",
   "pygments_lexer": "ipython3",
   "version": "3.9.7"
  },
  "orig_nbformat": 4
 },
 "nbformat": 4,
 "nbformat_minor": 2
}
